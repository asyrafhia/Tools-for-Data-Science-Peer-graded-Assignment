{
 "cells": [
  {
   "cell_type": "markdown",
   "id": "5e32d8ad",
   "metadata": {},
   "source": [
    "<img src= 'img.png'>"
   ]
  },
  {
   "cell_type": "markdown",
   "id": "157f8c29",
   "metadata": {},
   "source": [
    "# <center>My Jupyter Notebook on IBM Data Science</center>"
   ]
  },
  {
   "cell_type": "markdown",
   "id": "43c3ca30",
   "metadata": {},
   "source": [
    "Hallo, My Name is Asyraf Ilmansyah Hia. I am a data scientist and currently working at Telkom Indonesia. I want to expand my knowledge in data science and hope can help business team in achieving their targets.\n",
    "\n",
    "``Asyraf Ilmansyah Hia - Data Scientist``"
   ]
  },
  {
   "cell_type": "markdown",
   "id": "162da3c3",
   "metadata": {},
   "source": [
    "# <u>Data Science Tools and Ecoystem</u>\n",
    "\n",
    "``In this notebook, Data Science Tools and Ecosystem are summarized``"
   ]
  },
  {
   "cell_type": "markdown",
   "id": "0fd56f4e",
   "metadata": {},
   "source": [
    "# Data science languages are:\n",
    "<hr>\n",
    "\n",
    "1. Python\n",
    "2. R\n",
    "3. SQL\n",
    "4. Scala\n",
    "5. Java\n",
    "6. C++\n",
    "7. Julia\n",
    "8. JavaScript\n",
    "9. PHP\n",
    "10. Go\n",
    "11. Ruby\n",
    "12. Visual Basic"
   ]
  },
  {
   "cell_type": "markdown",
   "id": "6755da48",
   "metadata": {},
   "source": [
    "# Data science libraries are:\n",
    "<hr>\n",
    "\n",
    "1. Pandas\n",
    "2. Numpy\n",
    "3. Matplotlib\n",
    "4. Seaborn\n",
    "5. Scikit-learn\n",
    "6. Keras\n",
    "7. TensorFlow\n",
    "8. PyTorch\n",
    "9. Apache Spark\n",
    "10. Vegas\n",
    "11. Big DL\n",
    "12. Ggplot2\n",
    "13. Datetime\n",
    "14. Xgboost\n",
    "15. LightGBM\n",
    "16. Imblearn\n",
    "17. Joblib"
   ]
  },
  {
   "cell_type": "markdown",
   "id": "b9c930a0",
   "metadata": {},
   "source": [
    "| Data Science Tools     |  |      |\n",
    "| :---        |    :----:   |          ---: |\n",
    "| Anaconda | \n",
    "| Jupyter Notebooks |\n",
    "| Google Colab |\n",
    "| R (RStudio) |\n",
    "| Spyder | \n",
    "| PyCharm | \n",
    "| Sublime |"
   ]
  },
  {
   "cell_type": "markdown",
   "id": "00d54a0e",
   "metadata": {},
   "source": [
    "# Introducing arithmetic expression examples.\n",
    "``Below are a few examples or evaluating arithmetic expressions in Python.``"
   ]
  },
  {
   "cell_type": "code",
   "execution_count": 1,
   "id": "12d615c5",
   "metadata": {},
   "outputs": [
    {
     "name": "stdout",
     "output_type": "stream",
     "text": [
      "38\n",
      "88\n"
     ]
    }
   ],
   "source": [
    "#This a simple arithmetic expression to mutiply then add integers\n",
    "x = (5*6)+8\n",
    "print(x)\n",
    "\n",
    "#This a simple arithmetic expression to add then mutiply integers\n",
    "y = (5+6)*8\n",
    "print(y)"
   ]
  },
  {
   "cell_type": "markdown",
   "id": "8f717699",
   "metadata": {},
   "source": [
    "# Convert minutes to hours"
   ]
  },
  {
   "cell_type": "code",
   "execution_count": 2,
   "id": "ec550dd5",
   "metadata": {},
   "outputs": [
    {
     "name": "stdout",
     "output_type": "stream",
     "text": [
      "Hours: 5.0 and Minutes: 8\n"
     ]
    }
   ],
   "source": [
    "#This will convert 308 minutes to hours by diving by 60\n",
    "total_minutes = 308\n",
    "min = total_minutes % 60\n",
    "hours = (total_minutes - min) / 60\n",
    "print(f'Hours: {hours} and Minutes: {min}') "
   ]
  },
  {
   "cell_type": "markdown",
   "id": "ca47da67",
   "metadata": {},
   "source": [
    "# List Objectives\n",
    "- Add comments to code cells\n",
    "- Create markdown cells\n",
    "- Add ordered and unordered lists to markdown cells\n",
    "- Format content markdown cells with heading styles"
   ]
  },
  {
   "cell_type": "markdown",
   "id": "63b0926f",
   "metadata": {},
   "source": [
    "## Author\n",
    "\n",
    "**Asyraf Ilmansyah Hia**"
   ]
  },
  {
   "cell_type": "code",
   "execution_count": null,
   "id": "2473662f",
   "metadata": {},
   "outputs": [],
   "source": []
  }
 ],
 "metadata": {
  "kernelspec": {
   "display_name": "Python 3 (ipykernel)",
   "language": "python",
   "name": "python3"
  },
  "language_info": {
   "codemirror_mode": {
    "name": "ipython",
    "version": 3
   },
   "file_extension": ".py",
   "mimetype": "text/x-python",
   "name": "python",
   "nbconvert_exporter": "python",
   "pygments_lexer": "ipython3",
   "version": "3.9.7"
  }
 },
 "nbformat": 4,
 "nbformat_minor": 5
}
